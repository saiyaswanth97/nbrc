{
 "cells": [
  {
   "cell_type": "markdown",
   "metadata": {},
   "source": [
    "# Conversion to nfiti data from bruker "
   ]
  },
  {
   "cell_type": "code",
   "execution_count": null,
   "metadata": {},
   "outputs": [],
   "source": [
    "# Setting the data folder and the data point\n",
    "DATA_FOLDER='/home/smummaneni/nbrc/data/new/Raw_data_MRS'\n",
    "DATA_POINT='118W8_09'\n",
    "FILE_OUT='FID_' + DATA_POINT + '.nii.gz'\n",
    "OUTPUT_FOLDER='/home/smummaneni/nbrc/data/new/Raw_data_MRS/proc'\n",
    "BASIS_FILE='/home/smummaneni/nbrc/data/new/9.4t/gamma_press_te15_9.4t_v1.basis'\n",
    "!mkdir OUTPUT_FOLDER\n",
    "# Run spec2nii to convert FID to NIfTI\n",
    "!spec2nii bruker -m FID $DATA_FOLDER/$DATA_POINT\n",
    "# The output will in current directory, move it to the data folder\n",
    "!mv $FILE_OUT $DATA_FOLDER/."
   ]
  },
  {
   "cell_type": "markdown",
   "metadata": {},
   "source": [
    "## Processing - fixed phase (0 order, 90 deg) --> apodize (exp 25) --> remove --> model (? [1.5-4.0])"
   ]
  },
  {
   "cell_type": "code",
   "execution_count": 31,
   "metadata": {},
   "outputs": [
    {
     "data": {
      "text/plain": [
       "[]"
      ]
     },
     "execution_count": 31,
     "metadata": {},
     "output_type": "execute_result"
    }
   ],
   "source": [
    "# Applied sperately to the FID data\n",
    "%sx fsl_mrs_proc remove --file $DATA_FOLDER/$FILE_OUT --out $OUTPUT_FOLDER --filename removed\n",
    "%sx fsl_mrs_proc apodize --file $DATA_FOLDER/$FILE_OUT --out $OUTPUT_FOLDER --filename smoothed --filter exp --amount 25\n",
    "%sx fsl_mrs_proc fixed_phase --file $DATA_FOLDER/$FILE_OUT --out $OUTPUT_FOLDER --filename phase_corrected --p0 90\n",
    "%sx fsl_mrs_proc model --file $DATA_FOLDER/$FILE_OUT --out $OUTPUT_FOLDER --filename peak --ppm 1.5 4.0\n",
    "\n",
    "# Combine processing\n",
    "%sx fsl_mrs_proc fixed_phase --file $DATA_FOLDER/$FILE_OUT --out $OUTPUT_FOLDER --filename fully_processed --p0 90\n",
    "%sx fsl_mrs_proc apodize --file $OUTPUT_FOLDER/fully_processed.nii.gz --out $OUTPUT_FOLDER --filename fully_processed --filter exp --amount 25\n",
    "%sx fsl_mrs_proc remove --file $OUTPUT_FOLDER/fully_processed.nii.gz --out $OUTPUT_FOLDER --filename fully_processed\n",
    "%sx fsl_mrs_proc model --file $OUTPUT_FOLDER/fully_processed.nii.gz --out $OUTPUT_FOLDER --filename peak_filtered --ppm 1.5 4.0\n"
   ]
  },
  {
   "cell_type": "markdown",
   "metadata": {},
   "source": [
    "## Fitting"
   ]
  },
  {
   "cell_type": "code",
   "execution_count": 34,
   "metadata": {},
   "outputs": [
    {
     "data": {
      "text/plain": [
       "[]"
      ]
     },
     "execution_count": 34,
     "metadata": {},
     "output_type": "execute_result"
    }
   ],
   "source": [
    "%sx fsl_mrs --data $OUTPUT_FOLDER/fully_processed.nii.gz --basis $BASIS_FILE --output out"
   ]
  },
  {
   "cell_type": "code",
   "execution_count": 36,
   "metadata": {},
   "outputs": [
    {
     "name": "stdout",
     "output_type": "stream",
     "text": [
      "For individual processing\n",
      "fsl_mrs_proc remove --file FID_118W8_09.nii.gz --out proc --filename removed\n",
      "fsl_mrs_proc apodize --file FID_118W8_09.nii.gz --out proc --filename smoothed --filter exp --amount 25\n",
      "fsl_mrs_proc fixed_phase --file FID_118W8_09.nii.gz --out proc --filename phase_corrected --p0 90\n",
      "fsl_mrs_proc model --file FID_118W8_09.nii.gz --out proc --filename peak --ppm 1.5 4.0\n",
      "-------------------------------------------------\n",
      "For combined processing\n",
      "fsl_mrs_proc fixed_phase --file FID_118W8_09.nii.gz --out proc --filename fully_processed --p0 90\n",
      "fsl_mrs_proc apodize --file proc/fully_processed.nii.gz --out proc --filename fully_processed --filter exp --amount 25\n",
      "fsl_mrs_proc remove --file proc/fully_processed.nii.gz --out proc --filename fully_processed\n",
      "fsl_mrs_proc model --file proc/fully_processed.nii.gz --out proc --filename peak_filtered --ppm 1.5 4.0\n",
      "-------------------------------------------------\n",
      "Fitting\n",
      "fsl_mrs --data proc/fully_processed.nii.gz --basis /home/smummaneni/nbrc/data/new/9.4t/gamma_press_te15_9.4t_v1.basis --output out\n"
     ]
    }
   ],
   "source": [
    "data = 'FID_118W8_09.nii.gz'\n",
    "out_dir = 'proc'\n",
    "print('For individual processing')\n",
    "print('fsl_mrs_proc remove --file ' + data + ' --out ' + out_dir + ' --filename removed')\n",
    "print('fsl_mrs_proc apodize --file ' + data + ' --out ' + out_dir + ' --filename smoothed --filter exp --amount 25')\n",
    "print('fsl_mrs_proc fixed_phase --file ' + data + ' --out ' + out_dir + ' --filename phase_corrected --p0 90')\n",
    "print('fsl_mrs_proc model --file ' + data + ' --out ' + out_dir + ' --filename peak --ppm 1.5 4.0')\n",
    "print('-------------------------------------------------')\n",
    "print('For combined processing')\n",
    "print('fsl_mrs_proc fixed_phase --file ' + data + ' --out ' + out_dir + ' --filename fully_processed --p0 90')\n",
    "print('fsl_mrs_proc apodize --file ' + out_dir + '/fully_processed.nii.gz --out ' + out_dir + ' --filename fully_processed --filter exp --amount 25')\n",
    "print('fsl_mrs_proc remove --file ' + out_dir + '/fully_processed.nii.gz --out ' + out_dir + ' --filename fully_processed')\n",
    "print('fsl_mrs_proc model --file ' + out_dir + '/fully_processed.nii.gz --out ' + out_dir + ' --filename peak_filtered --ppm 1.5 4.0')\n",
    "print('-------------------------------------------------')\n",
    "print('Fitting')\n",
    "print('fsl_mrs --data ' + out_dir + '/fully_processed.nii.gz --basis ' + BASIS_FILE + ' --output out')"
   ]
  }
 ],
 "metadata": {
  "kernelspec": {
   "display_name": "base",
   "language": "python",
   "name": "python3"
  },
  "language_info": {
   "codemirror_mode": {
    "name": "ipython",
    "version": 3
   },
   "file_extension": ".py",
   "mimetype": "text/x-python",
   "name": "python",
   "nbconvert_exporter": "python",
   "pygments_lexer": "ipython3",
   "version": "3.12.2"
  }
 },
 "nbformat": 4,
 "nbformat_minor": 2
}
