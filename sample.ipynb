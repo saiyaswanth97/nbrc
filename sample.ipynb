{
 "cells": [
  {
   "cell_type": "code",
   "execution_count": 2,
   "metadata": {},
   "outputs": [
    {
     "name": "stdout",
     "output_type": "stream",
     "text": [
      "Collecting brukerapi==0.1.8\n",
      "  Downloading brukerapi-0.1.8-py3-none-any.whl (38 kB)\n",
      "Requirement already satisfied: pyyaml in /usr/lib/python3/dist-packages (from brukerapi==0.1.8) (5.3.1)\n",
      "Requirement already satisfied: numpy in /home/smummaneni/.local/lib/python3.8/site-packages (from brukerapi==0.1.8) (1.24.4)\n",
      "Installing collected packages: brukerapi\n",
      "  Attempting uninstall: brukerapi\n",
      "    Found existing installation: brukerapi 0.1.9\n",
      "    Uninstalling brukerapi-0.1.9:\n",
      "      Successfully uninstalled brukerapi-0.1.9\n",
      "Successfully installed brukerapi-0.1.8\n"
     ]
    }
   ],
   "source": [
    "# Install the brukerapi to Access the data from the Bruker NMR spectrometer\n",
    "# pip --> Python package installer\n",
    "!python3 -m pip install brukerapi==0.1.8"
   ]
  },
  {
   "cell_type": "code",
   "execution_count": 3,
   "metadata": {},
   "outputs": [
    {
     "name": "stdout",
     "output_type": "stream",
     "text": [
      "(2048, 1)\n",
      "[[0.05255177]\n",
      " [0.0715208 ]\n",
      " [0.14199777]\n",
      " ...\n",
      " [0.14203376]\n",
      " [0.01454172]\n",
      " [0.08379488]]\n"
     ]
    }
   ],
   "source": [
    "from brukerapi.dataset import Dataset\n",
    "\n",
    "\n",
    "# Add your own folder path\n",
    "# main_path = '/home/smummaneni/nbrc/data/new/Raw_data_MRS'\n",
    "# folder = main_path + '/115W8_12/pdata/1'\n",
    "folder = '/home/smummaneni/nbrc/data/new/Raw_data_MRS/115W8_12/pdata/1'\n",
    "dataset = Dataset(folder + '/2dseq')\n",
    "print(dataset.shape)\n",
    "print(dataset.data)"
   ]
  },
  {
   "cell_type": "code",
   "execution_count": 4,
   "metadata": {},
   "outputs": [
    {
     "name": "stdout",
     "output_type": "stream",
     "text": [
      "{'path': PosixPath('/home/smummaneni/nbrc/data/new/Raw_data_MRS/115W8_12/pdata/1/2dseq'), 'type': '2dseq', 'subtype': '', '_properties': ['pv_version', 'numpy_dtype', 'shape_frames', 'is_single_slice', 'shape_fg', 'shape_block', 'encoded_dim', 'shape_storage', 'shape_final', 'num_slice_packages', 'slope', 'offset', 'dim_type', 'subj_id', 'study_id', 'exp_id', 'proc_id', 'id', 'position_matrix', 'affine', 'TE', 'imaging_frequency', 'date', 'dwell_s'], '_state': {'parameter_files': ['visu_pars'], 'property_files': [PosixPath('/home/smummaneni/.local/lib/python3.8/site-packages/brukerapi/config/properties_2dseq_core.json'), PosixPath('/home/smummaneni/.local/lib/python3.8/site-packages/brukerapi/config/properties_2dseq_custom.json')], 'load': True, 'load_parameters': True, 'load_properties': True, 'load_data': True, 'scale': True, 'mmap': False}, '_parameters': {'visu_pars': <brukerapi.jcampdx.JCAMPDX object at 0x7f29a7577af0>}, 'pv_version': '6.0.1', 'numpy_dtype': dtype('<i2'), 'shape_frames': (1,), 'is_single_slice': False, 'shape_fg': (1,), 'shape_block': (2048,), 'encoded_dim': 1, 'shape_storage': (2048, 1), 'shape_final': (2048, 1), 'num_slice_packages': 1, 'slope': array([3.59943651e-05]), 'offset': array([0]), 'dim_type': ['spectroscopic'], 'subj_id': '115W8', 'study_id': '1', 'exp_id': '115W8_12', 'proc_id': '1', 'id': '2DSEQ_115W8_12_1_115W8_1', 'position_matrix': array([[1, 0, 0],\n",
      "       [0, 1, 0],\n",
      "       [0, 0, 1]]), 'affine': array([[1., 0., 0., 0.],\n",
      "       [0., 1., 0., 0.],\n",
      "       [0., 0., 1., 0.],\n",
      "       [0., 0., 0., 1.]]), 'TE': 0, 'imaging_frequency': 400.340164993541, 'date': datetime.datetime(2016, 6, 3, 9, 27, 14, 650000, tzinfo=datetime.timezone(datetime.timedelta(seconds=7200))), 'dwell_s': 6.25e-07, '_schema': <brukerapi.schemas.Schema2dseq object at 0x7f29a7577070>, '_data': array([[0.05255177],\n",
      "       [0.0715208 ],\n",
      "       [0.14199777],\n",
      "       ...,\n",
      "       [0.14203376],\n",
      "       [0.01454172],\n",
      "       [0.08379488]])}\n"
     ]
    }
   ],
   "source": [
    "print(dataset.__dict__)"
   ]
  },
  {
   "cell_type": "code",
   "execution_count": 7,
   "metadata": {},
   "outputs": [],
   "source": [
    "# BitchPlease run this in terminal to install the mrtrix3\n",
    "# !sudo apt install mrtrix3\n",
    "!mrconvert /path/to/2dseq /path/to/output_file.nii"
   ]
  },
  {
   "cell_type": "code",
   "execution_count": null,
   "metadata": {},
   "outputs": [],
   "source": []
  }
 ],
 "metadata": {
  "kernelspec": {
   "display_name": "Python 3",
   "language": "python",
   "name": "python3"
  },
  "language_info": {
   "codemirror_mode": {
    "name": "ipython",
    "version": 3
   },
   "file_extension": ".py",
   "mimetype": "text/x-python",
   "name": "python",
   "nbconvert_exporter": "python",
   "pygments_lexer": "ipython3",
   "version": "3.8.10"
  }
 },
 "nbformat": 4,
 "nbformat_minor": 2
}
